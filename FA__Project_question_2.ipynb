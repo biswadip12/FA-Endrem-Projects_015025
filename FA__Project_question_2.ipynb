{
  "cells": [
    {
      "cell_type": "markdown",
      "metadata": {
        "id": "SbHpW-pLryYG"
      },
      "source": [
        "# Importing the all important libraries"
      ]
    },
    {
      "cell_type": "code",
      "execution_count": null,
      "metadata": {
        "id": "T3ldPh73rvkv"
      },
      "outputs": [],
      "source": [
        "from pyspark.sql import SparkSession\n",
        "spark=SparkSession.builder.appName('Coronavirus').getOrCreate()"
      ]
    },
    {
      "cell_type": "code",
      "execution_count": null,
      "metadata": {
        "id": "pI30B6Ntrvkz"
      },
      "outputs": [],
      "source": [
        "df=spark.read.csv('Corona_NLP_train.csv',header=True,inferSchema=True)"
      ]
    },
    {
      "cell_type": "code",
      "execution_count": null,
      "metadata": {
        "id": "3xU3iAjvrvk0",
        "outputId": "e157676d-a753-498a-8bdf-7d7108f0e527"
      },
      "outputs": [
        {
          "name": "stdout",
          "output_type": "stream",
          "text": [
            "+--------+------------+--------------------+----------+--------------------+---------+\n",
            "|UserName|  ScreenName|            Location|   TweetAt|       OriginalTweet|Sentiment|\n",
            "+--------+------------+--------------------+----------+--------------------+---------+\n",
            "|    3799|       48751|              London|16-03-2020|@MeNyrbie @Phil_G...|  Neutral|\n",
            "|    3800|       48752|                  UK|16-03-2020|advice Talk to yo...| Positive|\n",
            "|    3801|       48753|           Vagabonds|16-03-2020|Coronavirus Austr...| Positive|\n",
            "|    3802|       48754|                null|16-03-2020|My food stock is ...|     null|\n",
            "|  PLEASE| don't panic| THERE WILL BE EN...|      null|                null|     null|\n",
            "+--------+------------+--------------------+----------+--------------------+---------+\n",
            "only showing top 5 rows\n",
            "\n"
          ]
        }
      ],
      "source": [
        "df.show(5)"
      ]
    },
    {
      "cell_type": "code",
      "execution_count": null,
      "metadata": {
        "id": "9z3TRq7krvk0",
        "outputId": "40cb82b8-b6dd-4db1-cbc7-3b507efccdcf"
      },
      "outputs": [
        {
          "data": {
            "text/plain": [
              "['UserName', 'ScreenName', 'Location', 'TweetAt', 'OriginalTweet', 'Sentiment']"
            ]
          },
          "execution_count": 4,
          "metadata": {},
          "output_type": "execute_result"
        }
      ],
      "source": [
        "df.columns"
      ]
    },
    {
      "cell_type": "code",
      "execution_count": null,
      "metadata": {
        "id": "FfbIXkQWrvk1",
        "outputId": "55f0b428-7235-4d38-b4e8-8e8194c00cf5"
      },
      "outputs": [
        {
          "name": "stdout",
          "output_type": "stream",
          "text": [
            "(68046, 6)\n"
          ]
        }
      ],
      "source": [
        "print((df.count(),len(df.columns)))"
      ]
    },
    {
      "cell_type": "code",
      "execution_count": null,
      "metadata": {
        "id": "ndu3ytRJrvk2"
      },
      "outputs": [],
      "source": [
        ""
      ]
    },
    {
      "cell_type": "markdown",
      "metadata": {
        "id": "F56obNQhrvk2"
      },
      "source": [
        "# Preparation of Data"
      ]
    },
    {
      "cell_type": "code",
      "execution_count": null,
      "metadata": {
        "id": "DrY8Z8Khrvk4"
      },
      "outputs": [],
      "source": [
        "from pyspark.sql.functions import length"
      ]
    },
    {
      "cell_type": "code",
      "execution_count": null,
      "metadata": {
        "id": "PUwrYOw1rvk5"
      },
      "outputs": [],
      "source": [
        "df=df.withColumn('Tweet_length', length(df['OriginalTweet']))"
      ]
    },
    {
      "cell_type": "code",
      "execution_count": null,
      "metadata": {
        "id": "LGfN64F_rvk6",
        "outputId": "92e51bdd-9de1-4978-cbc2-ff02e0f774b8"
      },
      "outputs": [
        {
          "name": "stdout",
          "output_type": "stream",
          "text": [
            "+--------+------------+--------------------+----------+--------------------+---------+------------+\n",
            "|UserName|  ScreenName|            Location|   TweetAt|       OriginalTweet|Sentiment|Tweet_length|\n",
            "+--------+------------+--------------------+----------+--------------------+---------+------------+\n",
            "|    3799|       48751|              London|16-03-2020|@MeNyrbie @Phil_G...|  Neutral|         111|\n",
            "|    3800|       48752|                  UK|16-03-2020|advice Talk to yo...| Positive|         237|\n",
            "|    3801|       48753|           Vagabonds|16-03-2020|Coronavirus Austr...| Positive|         131|\n",
            "|    3802|       48754|                null|16-03-2020|My food stock is ...|     null|          51|\n",
            "|  PLEASE| don't panic| THERE WILL BE EN...|      null|                null|     null|        null|\n",
            "+--------+------------+--------------------+----------+--------------------+---------+------------+\n",
            "only showing top 5 rows\n",
            "\n"
          ]
        }
      ],
      "source": [
        "df.show(5)"
      ]
    },
    {
      "cell_type": "code",
      "execution_count": null,
      "metadata": {
        "id": "JnwkfOeQrvk7"
      },
      "outputs": [],
      "source": [
        "sentiments=['Positive','Negative','Neutral','Extremely Positive','Extremely Negative']"
      ]
    },
    {
      "cell_type": "code",
      "execution_count": null,
      "metadata": {
        "id": "EeJdIPw8rvk8"
      },
      "outputs": [],
      "source": [
        "data=df.filter(df.Sentiment.isin(sentiments))"
      ]
    },
    {
      "cell_type": "code",
      "execution_count": null,
      "metadata": {
        "id": "_Lr-ngzsrvk9",
        "outputId": "6e9aaf07-4c26-405d-fed3-86a7638305ce"
      },
      "outputs": [
        {
          "name": "stdout",
          "output_type": "stream",
          "text": [
            "+------------------+\n",
            "|         Sentiment|\n",
            "+------------------+\n",
            "|Extremely Negative|\n",
            "|           Neutral|\n",
            "|          Positive|\n",
            "|          Negative|\n",
            "|Extremely Positive|\n",
            "+------------------+\n",
            "\n"
          ]
        }
      ],
      "source": [
        "data.select('Sentiment').distinct().show()"
      ]
    },
    {
      "cell_type": "code",
      "execution_count": null,
      "metadata": {
        "id": "8RlvKcT2rvk-",
        "outputId": "17560f3f-1a8a-4ef8-b64c-53f94239ae16"
      },
      "outputs": [
        {
          "data": {
            "text/plain": [
              "5"
            ]
          },
          "execution_count": 13,
          "metadata": {},
          "output_type": "execute_result"
        }
      ],
      "source": [
        "data.select('Sentiment').distinct().count()"
      ]
    },
    {
      "cell_type": "markdown",
      "metadata": {
        "id": "vAgLrF74r-mM"
      },
      "source": [
        "# Grouping by Sentiment"
      ]
    },
    {
      "cell_type": "code",
      "execution_count": null,
      "metadata": {
        "id": "zpEOJ_-_rvk-",
        "outputId": "8a310880-c114-4974-8986-fd5431d15eda"
      },
      "outputs": [
        {
          "name": "stdout",
          "output_type": "stream",
          "text": [
            "+------------------+-----+\n",
            "|         Sentiment|count|\n",
            "+------------------+-----+\n",
            "|Extremely Negative| 3751|\n",
            "|           Neutral| 5224|\n",
            "|          Positive| 7718|\n",
            "|          Negative| 6857|\n",
            "|Extremely Positive| 4412|\n",
            "+------------------+-----+\n",
            "\n"
          ]
        }
      ],
      "source": [
        "data.groupby('Sentiment').count().show()"
      ]
    },
    {
      "cell_type": "code",
      "execution_count": null,
      "metadata": {
        "id": "Uc-mLSfIrvk-",
        "outputId": "d008e746-9faa-4255-b487-6a45e300755f"
      },
      "outputs": [
        {
          "name": "stdout",
          "output_type": "stream",
          "text": [
            "+--------+----------+--------------------+----------+--------------------+---------+------------+\n",
            "|UserName|ScreenName|            Location|   TweetAt|       OriginalTweet|Sentiment|Tweet_length|\n",
            "+--------+----------+--------------------+----------+--------------------+---------+------------+\n",
            "|    3799|     48751|              London|16-03-2020|@MeNyrbie @Phil_G...|  Neutral|         111|\n",
            "|    3800|     48752|                  UK|16-03-2020|advice Talk to yo...| Positive|         237|\n",
            "|    3801|     48753|           Vagabonds|16-03-2020|Coronavirus Austr...| Positive|         131|\n",
            "|    3804|     48756|ÜT: 36.319708,-82...|16-03-2020|As news of the re...| Positive|         249|\n",
            "|    3805|     48757|35.926541,-78.753267|16-03-2020|\"Cashier at groce...| Positive|         184|\n",
            "+--------+----------+--------------------+----------+--------------------+---------+------------+\n",
            "only showing top 5 rows\n",
            "\n"
          ]
        }
      ],
      "source": [
        "data.show(5)"
      ]
    },
    {
      "cell_type": "code",
      "execution_count": null,
      "metadata": {
        "id": "ngx_qbEjrvk-",
        "outputId": "8889c8e8-8125-41d6-c1db-f0978b5b74db"
      },
      "outputs": [
        {
          "name": "stdout",
          "output_type": "stream",
          "text": [
            "(27962, 7)\n"
          ]
        }
      ],
      "source": [
        "print((data.count(),len(data.columns)))"
      ]
    },
    {
      "cell_type": "code",
      "execution_count": null,
      "metadata": {
        "id": "stw_D9JPrvk_",
        "outputId": "e0f28e2c-dcef-4c13-e469-780b75505984"
      },
      "outputs": [
        {
          "name": "stdout",
          "output_type": "stream",
          "text": [
            "+--------+----------+--------+-------+-------------+---------+------------+\n",
            "|UserName|ScreenName|Location|TweetAt|OriginalTweet|Sentiment|Tweet_length|\n",
            "+--------+----------+--------+-------+-------------+---------+------------+\n",
            "|       0|         0|    6152|      0|            0|        0|           0|\n",
            "+--------+----------+--------+-------+-------------+---------+------------+\n",
            "\n"
          ]
        }
      ],
      "source": [
        "from pyspark.sql.functions import isnan,when,count,col\n",
        "data.select([count(when(isnan(c) | col(c).isNull(), c)).alias(c) for c in data.columns]\n",
        "   ).show()"
      ]
    },
    {
      "cell_type": "code",
      "execution_count": null,
      "metadata": {
        "id": "BbDIu-WErvlA"
      },
      "outputs": [],
      "source": [
        "from pyspark.ml.feature import Tokenizer, StopWordsRemover, CountVectorizer, IDF, StringIndexer,RegexTokenizer"
      ]
    },
    {
      "cell_type": "code",
      "execution_count": null,
      "metadata": {
        "id": "UrIU4dcsrvlA"
      },
      "outputs": [],
      "source": [
        "from pyspark.sql.functions import col,udf\n",
        "from pyspark.sql.types import IntegerTy\n",
        "tokenizer=Tokenizer(inputCol=\"OriginalTweet\", outputCol=\"token_text\")\n",
        "stopremove=StopWordsRemover(inputCol=\"token_text\", outputCol=\"stop_tokens\")\n",
        "countvec=CountVectorizer(inputCol=\"stop_tokens\", outputCol=\"c_vec\")\n",
        "idf=IDF(inputCol=\"c_vec\", outputCol=\"tf_idf\")\n",
        "\n",
        "# Converting labels to numeric\n",
        "labeltonum=StringIndexer(inputCol=\"Sentiment\", outputCol=\"label\")"
      ]
    },
    {
      "cell_type": "code",
      "execution_count": null,
      "metadata": {
        "id": "b597jCF2rvlB"
      },
      "outputs": [],
      "source": [
        "from pyspark.ml.feature import VectorAssembler\n",
        "from pyspark.ml.linalg import Vector"
      ]
    },
    {
      "cell_type": "code",
      "execution_count": null,
      "metadata": {
        "id": "DJOGoGF5rvlB"
      },
      "outputs": [],
      "source": [
        "cleaned=VectorAssembler(inputCols=[\"tf_idf\",\"Tweet_length\"], outputCol=\"features\")"
      ]
    },
    {
      "cell_type": "code",
      "execution_count": null,
      "metadata": {
        "id": "2ZBqEcs2rvlB"
      },
      "outputs": [],
      "source": [
        "from pyspark.ml.classification import NaiveBayes\n",
        "NB= NaiveBayes()"
      ]
    },
    {
      "cell_type": "code",
      "execution_count": null,
      "metadata": {
        "id": "N8pmmzU1rvlB"
      },
      "outputs": [],
      "source": [
        "from pyspark.ml import Pipeline\n",
        "data_prep_pipelines= Pipeline(stages=(labeltonum, tokenizer, stopremove, countvec, idf, cleaned  ))"
      ]
    },
    {
      "cell_type": "code",
      "execution_count": null,
      "metadata": {
        "id": "sgzc5sdGrvlB"
      },
      "outputs": [],
      "source": [
        "clnr=data_prep_pipelines.fit(data)"
      ]
    },
    {
      "cell_type": "code",
      "execution_count": null,
      "metadata": {
        "id": "m3gEo-P-rvlB"
      },
      "outputs": [],
      "source": [
        "clean_data=clnr.transform(data)"
      ]
    },
    {
      "cell_type": "code",
      "execution_count": null,
      "metadata": {
        "id": "ti_Q9yRTrvlB",
        "outputId": "0404a511-3e2e-4872-d415-e6fea1011654"
      },
      "outputs": [
        {
          "name": "stdout",
          "output_type": "stream",
          "text": [
            "+--------+----------+--------------------+----------+--------------------+------------------+------------+-----+--------------------+--------------------+--------------------+--------------------+--------------------+\n",
            "|UserName|ScreenName|            Location|   TweetAt|       OriginalTweet|         Sentiment|Tweet_length|label|          token_text|         stop_tokens|               c_vec|              tf_idf|            features|\n",
            "+--------+----------+--------------------+----------+--------------------+------------------+------------+-----+--------------------+--------------------+--------------------+--------------------+--------------------+\n",
            "|    3799|     48751|              London|16-03-2020|@MeNyrbie @Phil_G...|           Neutral|         111|  2.0|[@menyrbie, @phil...|[@menyrbie, @phil...|(78305,[13231,408...|(78305,[13231,408...|(78306,[13231,408...|\n",
            "|    3800|     48752|                  UK|16-03-2020|advice Talk to yo...|          Positive|         237|  0.0|[advice, talk, to...|[advice, talk, ne...|(78305,[13,14,133...|(78305,[13,14,133...|(78306,[13,14,133...|\n",
            "|    3801|     48753|           Vagabonds|16-03-2020|Coronavirus Austr...|          Positive|         131|  0.0|[coronavirus, aus...|[coronavirus, aus...|(78305,[8,14,37,7...|(78305,[8,14,37,7...|(78306,[8,14,37,7...|\n",
            "|    3804|     48756|ÜT: 36.319708,-82...|16-03-2020|As news of the re...|          Positive|         249|  0.0|[as, news, of, th...|[news, regions, ...|(78305,[7,8,31,47...|(78305,[7,8,31,47...|(78306,[7,8,31,47...|\n",
            "|    3805|     48757|35.926541,-78.753267|16-03-2020|\"Cashier at groce...|          Positive|         184|  0.0|[\"cashier, at, gr...|[\"cashier, grocer...|(78305,[3,6,18,60...|(78305,[3,6,18,60...|(78306,[3,6,18,60...|\n",
            "|    3807|     48759|     Atlanta, GA USA|16-03-2020|Due to COVID-19 o...|          Positive|         280|  0.0|[due, to, covid-1...|[due, covid-19, r...|(78305,[1,6,8,13,...|(78305,[1,6,8,13,...|(78306,[1,6,8,13,...|\n",
            "|    3808|     48760|    BHAVNAGAR,GUJRAT|16-03-2020|For corona preven...|          Negative|         267|  1.0|[for, corona, pre...|[corona, preventi...|(78305,[11,13,14,...|(78305,[11,13,14,...|(78306,[11,13,14,...|\n",
            "|    3809|     48761|      Makati, Manila|16-03-2020|All month there h...|           Neutral|         276|  2.0|[all, month, ther...|[month, crowding,...|(78305,[48,70,149...|(78305,[48,70,149...|(78306,[48,70,149...|\n",
            "|    3811|     48763|          Horningsea|16-03-2020|#horningsea is a ...|Extremely Positive|         278|  3.0|[#horningsea, is,...|[#horningsea, car...|(78305,[13,14,23,...|(78305,[13,14,23,...|(78306,[13,14,23,...|\n",
            "|    3813|     48765|                null|16-03-2020|ADARA Releases CO...|          Positive|         185|  0.0|[adara, releases,...|[adara, releases,...|(78305,[8,10,23,5...|(78305,[8,10,23,5...|(78306,[8,10,23,5...|\n",
            "|    3818|     48770|          Denver, CO|16-03-2020|For those who are...|          Positive|         184|  0.0|[for, those, who,...|[struggling,, ple...|(78305,[4,8,24,38...|(78305,[4,8,24,38...|(78306,[4,8,24,38...|\n",
            "|    3819|     48771|southampton soxx xxx|16-03-2020|with 100  nations...|Extremely Negative|         251|  4.0|[with, 100, , nat...|[100, , nations, ...|(78305,[1,4,9,11,...|(78305,[1,4,9,11,...|(78306,[1,4,9,11,...|\n",
            "|    3823|     48775|    Downstage centre|16-03-2020|@10DowningStreet ...|          Negative|         255|  1.0|[@10downingstreet...|[@10downingstreet...|(78305,[4,21,44,7...|(78305,[4,21,44,7...|(78306,[4,21,44,7...|\n",
            "|    3824|     48776|              London|16-03-2020|UK #consumer poll...|Extremely Positive|         278|  3.0|[uk, #consumer, p...|[uk, #consumer, p...|(78305,[10,37,54,...|(78305,[10,37,54,...|(78306,[10,37,54,...|\n",
            "|    3825|     48777|      Ketchum, Idaho|16-03-2020|In preparation fo...|          Negative|         202|  1.0|[in, preparation,...|[preparation, hig...|(78305,[4,8,24,33...|(78305,[4,8,24,33...|(78306,[4,8,24,33...|\n",
            "|    3826|     48778| Everywhere You Are!|16-03-2020|This morning I te...|Extremely Negative|         279|  4.0|[this, morning, i...|[morning, tested,...|(78305,[1,7,11,36...|(78305,[1,7,11,36...|(78306,[1,7,11,36...|\n",
            "|    3829|     48781|                null|16-03-2020|There Is of in th...|          Negative|         114|  1.0|[there, is, of, i...|[country, , empty...|(78305,[1,4,7,34,...|(78305,[1,4,7,34,...|(78306,[1,4,7,34,...|\n",
            "|    3834|     48786|             Sverige|16-03-2020|Went to the super...|           Neutral|         122|  2.0|[went, to, the, s...|[went, supermarke...|(78305,[5,47,48,6...|(78305,[5,47,48,6...|(78306,[5,47,48,6...|\n",
            "|    3836|     48788|              Canada|16-03-2020|Worried about the...|          Positive|         225|  0.0|[worried, about, ...|[worried, impact,...|(78305,[8,12,23,2...|(78305,[8,12,23,2...|(78306,[8,12,23,2...|\n",
            "|    3837|     48789|                null|16-03-2020|my wife works ret...|          Negative|         288|  1.0|[my, wife, works,...|[wife, works, ret...|(78305,[6,28,33,9...|(78305,[6,28,33,9...|(78306,[6,28,33,9...|\n",
            "+--------+----------+--------------------+----------+--------------------+------------------+------------+-----+--------------------+--------------------+--------------------+--------------------+--------------------+\n",
            "only showing top 20 rows\n",
            "\n"
          ]
        }
      ],
      "source": [
        "clean_data.show()"
      ]
    },
    {
      "cell_type": "code",
      "execution_count": null,
      "metadata": {
        "id": "cS5f29L5rvlC"
      },
      "outputs": [],
      "source": [
        "clean_data=clean_data.select(['label', 'features'])"
      ]
    },
    {
      "cell_type": "code",
      "execution_count": null,
      "metadata": {
        "id": "-vpiFC5_rvlC",
        "outputId": "e597957f-d787-47ac-a15d-3fffce61a2f6"
      },
      "outputs": [
        {
          "name": "stdout",
          "output_type": "stream",
          "text": [
            "+-----+--------------------+\n",
            "|label|            features|\n",
            "+-----+--------------------+\n",
            "|  2.0|(78306,[13231,408...|\n",
            "|  0.0|(78306,[13,14,133...|\n",
            "|  0.0|(78306,[8,14,37,7...|\n",
            "|  0.0|(78306,[7,8,31,47...|\n",
            "|  0.0|(78306,[3,6,18,60...|\n",
            "|  0.0|(78306,[1,6,8,13,...|\n",
            "|  1.0|(78306,[11,13,14,...|\n",
            "|  2.0|(78306,[48,70,149...|\n",
            "|  3.0|(78306,[13,14,23,...|\n",
            "|  0.0|(78306,[8,10,23,5...|\n",
            "|  0.0|(78306,[4,8,24,38...|\n",
            "|  4.0|(78306,[1,4,9,11,...|\n",
            "|  1.0|(78306,[4,21,44,7...|\n",
            "|  3.0|(78306,[10,37,54,...|\n",
            "|  1.0|(78306,[4,8,24,33...|\n",
            "|  4.0|(78306,[1,7,11,36...|\n",
            "|  1.0|(78306,[1,4,7,34,...|\n",
            "|  2.0|(78306,[5,47,48,6...|\n",
            "|  0.0|(78306,[8,12,23,2...|\n",
            "|  1.0|(78306,[6,28,33,9...|\n",
            "+-----+--------------------+\n",
            "only showing top 20 rows\n",
            "\n"
          ]
        }
      ],
      "source": [
        "clean_data.show()"
      ]
    },
    {
      "cell_type": "markdown",
      "metadata": {
        "id": "2JlmSEq8rvlC"
      },
      "source": [
        "# Machine Learning Model"
      ]
    },
    {
      "cell_type": "code",
      "execution_count": null,
      "metadata": {
        "id": "9eim7IFjrvlC"
      },
      "outputs": [],
      "source": [
        "(training, testing)= clean_data.randomSplit([0.7,0.3])"
      ]
    },
    {
      "cell_type": "code",
      "execution_count": null,
      "metadata": {
        "id": "tN-oqIpArvlC"
      },
      "outputs": [],
      "source": [
        " sentiment_predictor=NB.fit(training)"
      ]
    },
    {
      "cell_type": "code",
      "execution_count": null,
      "metadata": {
        "id": "HbEvl8y_rvlD"
      },
      "outputs": [],
      "source": [
        "test_results=sentiment_predictor.transform(testing)"
      ]
    },
    {
      "cell_type": "code",
      "execution_count": null,
      "metadata": {
        "id": "wNTu_YpIrvlD",
        "outputId": "7056114e-eaf5-425c-c8c2-e74377d732ee"
      },
      "outputs": [
        {
          "name": "stdout",
          "output_type": "stream",
          "text": [
            "+-----+--------------------+--------------------+--------------------+----------+\n",
            "|label|            features|       rawPrediction|         probability|prediction|\n",
            "+-----+--------------------+--------------------+--------------------+----------+\n",
            "|  0.0|(78306,[0,1,2,7,1...|[-1756.6982074189...|[1.75104162056079...|       4.0|\n",
            "|  0.0|(78306,[0,1,2,7,1...|[-1845.2087339364...|[1.25846020903792...|       1.0|\n",
            "|  0.0|(78306,[0,1,2,12,...|[-1149.2362737275...|[0.00826678745894...|       3.0|\n",
            "|  0.0|(78306,[0,1,2,12,...|[-1162.3324078311...|[4.06967562562278...|       4.0|\n",
            "|  0.0|(78306,[0,1,2,19,...|[-2015.8274302821...|[1.0,8.1359598226...|       0.0|\n",
            "|  0.0|(78306,[0,1,2,25,...|[-1871.5124164119...|[4.59978559111855...|       1.0|\n",
            "|  0.0|(78306,[0,1,2,26,...|[-1695.0539077263...|[7.00925147583317...|       3.0|\n",
            "|  0.0|(78306,[0,1,2,29,...|[-1843.7324284291...|[1.58059757058517...|       4.0|\n",
            "|  0.0|(78306,[0,1,2,38,...|[-1819.7053578243...|[6.46535247002894...|       4.0|\n",
            "|  0.0|(78306,[0,1,2,40,...|[-1000.8708264372...|[0.99999999400770...|       0.0|\n",
            "|  0.0|(78306,[0,1,3,4,6...|[-1192.3840571611...|[3.25726549842067...|       1.0|\n",
            "|  0.0|(78306,[0,1,3,4,6...|[-713.79177523542...|[3.36499384149497...|       3.0|\n",
            "|  0.0|(78306,[0,1,3,4,1...|[-1381.5306490175...|[0.99985706520681...|       0.0|\n",
            "|  0.0|(78306,[0,1,3,6,7...|[-918.53847552882...|[0.99999999999552...|       0.0|\n",
            "|  0.0|(78306,[0,1,3,6,1...|[-932.25275153104...|[0.00854877815455...|       4.0|\n",
            "|  0.0|(78306,[0,1,3,6,1...|[-1495.8238774809...|[1.71168700154651...|       3.0|\n",
            "|  0.0|(78306,[0,1,3,6,1...|[-1421.2537497399...|[1.48191640626653...|       1.0|\n",
            "|  0.0|(78306,[0,1,3,6,2...|[-610.47452871710...|[0.99999999997698...|       0.0|\n",
            "|  0.0|(78306,[0,1,3,6,2...|[-2232.6834870708...|[1.26453385797827...|       4.0|\n",
            "|  0.0|(78306,[0,1,3,6,2...|[-1703.3411882046...|[2.59334649899244...|       3.0|\n",
            "+-----+--------------------+--------------------+--------------------+----------+\n",
            "only showing top 20 rows\n",
            "\n"
          ]
        }
      ],
      "source": [
        "test_results.show()"
      ]
    },
    {
      "cell_type": "code",
      "execution_count": null,
      "metadata": {
        "id": "lECAgfanrvlE"
      },
      "outputs": [],
      "source": [
        "from pyspark.ml.evaluation import MulticlassClassificationEvaluator"
      ]
    },
    {
      "cell_type": "code",
      "execution_count": null,
      "metadata": {
        "id": "-y3AW6WprvlE"
      },
      "outputs": [],
      "source": [
        "accuracy_evaluation= MulticlassClassificationEvaluator()\n",
        "acc=accuracy_evaluation.evaluate(test_results)"
      ]
    },
    {
      "cell_type": "code",
      "execution_count": null,
      "metadata": {
        "id": "2ZOqqpzKrvlE",
        "outputId": "e3574e84-152f-43d6-e832-45094eb20a73"
      },
      "outputs": [
        {
          "name": "stdout",
          "output_type": "stream",
          "text": [
            "The Accuracy of the model is :> 0.40263768590598215\n"
          ]
        }
      ],
      "source": [
        "print (\"The Accuracy of the model is :>\", acc)"
      ]
    },
    {
      "cell_type": "code",
      "execution_count": null,
      "metadata": {
        "id": "_8qXVU5GrvlE"
      },
      "outputs": [],
      "source": [
        ""
      ]
    }
  ],
  "metadata": {
    "colab": {
      "name": "FA_ Project question 2.ipynb",
      "provenance": []
    },
    "kernelspec": {
      "display_name": "Python 3",
      "language": "python",
      "name": "python3"
    },
    "language_info": {
      "codemirror_mode": {
        "name": "ipython",
        "version": 3
      },
      "file_extension": ".py",
      "mimetype": "text/x-python",
      "name": "python",
      "nbconvert_exporter": "python",
      "pygments_lexer": "ipython3",
      "version": "3.8.5"
    }
  },
  "nbformat": 4,
  "nbformat_minor": 0
}